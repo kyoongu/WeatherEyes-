{
 "cells": [
  {
   "cell_type": "code",
   "execution_count": 1,
   "metadata": {
    "slideshow": {
     "slide_type": "-"
    }
   },
   "outputs": [],
   "source": [
    "# 필요한 기본 패키지 준비\n",
    "import pandas as pd\n",
    "import numpy as np\n",
    "import statsmodels.api as sm\n",
    "from sklearn.linear_model import Ridge\n",
    "from sklearn.model_selection import train_test_split\n",
    "from sklearn.linear_model import LinearRegression\n",
    "from scipy import stats\n",
    "\n",
    "%matplotlib inline\n",
    "from plotnine import *\n",
    "import folium\n",
    "import matplotlib\n",
    "import matplotlib.pyplot as plt\n",
    "from matplotlib import rc, font_manager\n",
    "import datetime as dt\n",
    "\n",
    "# 한글 처리\n",
    "font_name = font_manager.FontProperties(fname='C:/Windows/Fonts/NanumGothicCoding.ttf').get_name()\n",
    "rc('font',family=font_name)\n",
    "\n",
    "# - 마이너스 사인 처리\n",
    "matplotlib.rcParams['axes.unicode_minus'] = False\n",
    "\n",
    "# jupyter notebook에서 warning 무시하기\n",
    "import warnings\n",
    "warnings.filterwarnings(\"ignore\")"
   ]
  },
  {
   "cell_type": "code",
   "execution_count": 2,
   "metadata": {},
   "outputs": [],
   "source": [
    "# 데이터 불러오기(전처리 된 데이터)\n",
    "air_2016_1 = pd.read_csv('E:/Python/csv/original/대기오염지수/2016년 1분기.csv', encoding='euc-kr')\n",
    "air_2016_2 = pd.read_csv('E:/Python/csv/original/대기오염지수/2016년 2분기.csv', encoding='euc-kr')\n",
    "air_2016_3 = pd.read_csv('E:/Python/csv/original/대기오염지수/2016년 3분기.csv', encoding='euc-kr')\n",
    "air_2016_4 = pd.read_csv('E:/Python/csv/original/대기오염지수/2016년 4분기.csv', encoding='euc-kr')\n",
    "\n",
    "air_2016_1_seoul = air_2016_1.loc[(air_2016_1['지역']=='서울')]\n",
    "air_2016_2_seoul = air_2016_2.loc[(air_2016_2['지역']=='서울')]\n",
    "air_2016_3_seoul = air_2016_3.loc[(air_2016_3['지역']=='서울')]\n",
    "air_2016_4_seoul = air_2016_4.loc[(air_2016_4['지역']=='서울')]\n",
    "\n",
    "air_2016_seoul1 = pd.merge(air_2016_1_seoul, air_2016_2_seoul, on=('지역','측정소코드','측정소명','측정일시','SO2','CO','O3','NO2','PM10','PM25','주소'), how='outer')\n",
    "air_2016_seoul2 = pd.merge(air_2016_seoul1, air_2016_3_seoul, on=('지역','측정소코드','측정소명','측정일시','SO2','CO','O3','NO2','PM10','PM25','주소'), how='outer')\n",
    "air_2016_seoul = pd.merge(air_2016_seoul2, air_2016_4_seoul, on=('지역','측정소코드','측정소명','측정일시','SO2','CO','O3','NO2','PM10','PM25','주소'), how='outer')"
   ]
  },
  {
   "cell_type": "code",
   "execution_count": 3,
   "metadata": {},
   "outputs": [],
   "source": [
    "# 데이터 불러오기(전처리 된 데이터)\n",
    "air_2017_1 = pd.read_csv('E:/Python/csv/original/대기오염지수/2017년 1분기.csv', encoding='euc-kr')\n",
    "air_2017_2 = pd.read_csv('E:/Python/csv/original/대기오염지수/2017년 2분기.csv', encoding='euc-kr')\n",
    "air_2017_3 = pd.read_csv('E:/Python/csv/original/대기오염지수/2017년 3분기.csv', encoding='euc-kr')\n",
    "air_2017_4 = pd.read_csv('E:/Python/csv/original/대기오염지수/2017년 4분기.csv', encoding='euc-kr')\n",
    "\n",
    "air_2017_1['지역'] = air_2017_1['지역'].str.split(\" \",expand=True)[0]\n",
    "air_2017_2['지역'] = air_2017_1['지역'].str.split(\" \",expand=True)[0]\n",
    "air_2017_3['지역'] = air_2017_1['지역'].str.split(\" \",expand=True)[0]\n",
    "air_2017_4['지역'] = air_2017_1['지역'].str.split(\" \",expand=True)[0]\n",
    "\n",
    "air_2017_1_seoul = air_2017_1.loc[(air_2017_1['지역']=='서울')]\n",
    "air_2017_2_seoul = air_2017_2.loc[(air_2017_2['지역']=='서울')]\n",
    "air_2017_3_seoul = air_2017_3.loc[(air_2017_3['지역']=='서울')]\n",
    "air_2017_4_seoul = air_2017_4.loc[(air_2017_4['지역']=='서울')]\n",
    "\n",
    "air_2017_seoul1 = pd.merge(air_2017_1_seoul, air_2017_2_seoul, on=('지역','측정소코드','측정소명','측정일시','SO2','CO','O3','NO2','PM10','PM25','주소'), how='outer')\n",
    "air_2017_seoul2 = pd.merge(air_2017_seoul1, air_2017_3_seoul, on=('지역','측정소코드','측정소명','측정일시','SO2','CO','O3','NO2','PM10','PM25','주소'), how='outer')\n",
    "air_2017_seoul = pd.merge(air_2017_seoul2, air_2017_4_seoul, on=('지역','측정소코드','측정소명','측정일시','SO2','CO','O3','NO2','PM10','PM25','주소'), how='outer')"
   ]
  },
  {
   "cell_type": "code",
   "execution_count": 4,
   "metadata": {},
   "outputs": [],
   "source": [
    "# 데이터 불러오기(전처리 된 데이터)\n",
    "air_2018_1 = pd.read_csv('E:/Python/csv/original/대기오염지수/2018년 1분기.csv', encoding='euc-kr')\n",
    "air_2018_2 = pd.read_csv('E:/Python/csv/original/대기오염지수/2018년 2분기.csv', encoding='euc-kr')\n",
    "air_2018_3 = pd.read_csv('E:/Python/csv/data/original/대기오염지수/2018년 3분기.csv', encoding='euc-kr')\n",
    "air_2018_4 = pd.read_csv('E:/Python/csv/data/original/대기오염지수/2018년 4분기.csv', encoding='euc-kr')\n",
    "\n",
    "air_2018_1['지역'] = air_2018_1['지역'].str.split(\" \",expand=True)[0]\n",
    "air_2018_2['지역'] = air_2018_1['지역'].str.split(\" \",expand=True)[0]\n",
    "air_2018_3['지역'] = air_2018_1['지역'].str.split(\" \",expand=True)[0]\n",
    "air_2018_4['지역'] = air_2018_1['지역'].str.split(\" \",expand=True)[0]\n",
    "\n",
    "air_2018_1_seoul = air_2018_1.loc[(air_2018_1['지역']=='서울')]\n",
    "air_2018_2_seoul = air_2018_2.loc[(air_2018_2['지역']=='서울')]\n",
    "air_2018_3_seoul = air_2018_3.loc[(air_2018_3['지역']=='서울')]\n",
    "air_2018_4_seoul = air_2018_4.loc[(air_2018_4['지역']=='서울')]\n",
    "\n",
    "air_2018_seoul1 = pd.merge(air_2018_1_seoul, air_2018_2_seoul, on=('지역','측정소코드','측정소명','측정일시','SO2','CO','O3','NO2','PM10','PM25','주소'), how='outer')\n",
    "air_2018_seoul2 = pd.merge(air_2018_seoul1, air_2018_3_seoul, on=('지역','측정소코드','측정소명','측정일시','SO2','CO','O3','NO2','PM10','PM25','주소'), how='outer')\n",
    "air_2018_seoul = pd.merge(air_2018_seoul2, air_2018_4_seoul, on=('지역','측정소코드','측정소명','측정일시','SO2','CO','O3','NO2','PM10','PM25','주소'), how='outer')\n"
   ]
  },
  {
   "cell_type": "markdown",
   "metadata": {},
   "source": [
    "# 중간저장"
   ]
  },
  {
   "cell_type": "code",
   "execution_count": 5,
   "metadata": {},
   "outputs": [
    {
     "name": "stdout",
     "output_type": "stream",
     "text": [
      "saving done!\n"
     ]
    }
   ],
   "source": [
    "air_2016_seoul.to_csv('E:/Python/csv/air_2016_seoul.csv', index=False, encoding='utf-8')\n",
    "air_2017_seoul.to_csv('E:/Python/csv/air_2017_seoul.csv', index=False, encoding='utf-8')\n",
    "air_2018_seoul.to_csv('E:/Python/csv/air_2018_seoul.csv', index=False, encoding='utf-8')\n",
    "print('saving done!')"
   ]
  },
  {
   "cell_type": "markdown",
   "metadata": {},
   "source": [
    "# 중간저장 불러오기"
   ]
  },
  {
   "cell_type": "code",
   "execution_count": 5,
   "metadata": {},
   "outputs": [],
   "source": [
    "air_2016_seoul = pd.read_csv('E:/Python/csv/air_2016_seoul.csv')\n",
    "air_2017_seoul = pd.read_csv('E:/Python/csv/air_2017_seoul.csv')\n",
    "air_2018_seoul = pd.read_csv('E:/Python/csv/air_2018_seoul.csv')"
   ]
  },
  {
   "cell_type": "code",
   "execution_count": 6,
   "metadata": {},
   "outputs": [
    {
     "data": {
      "text/html": [
       "<div>\n",
       "<style scoped>\n",
       "    .dataframe tbody tr th:only-of-type {\n",
       "        vertical-align: middle;\n",
       "    }\n",
       "\n",
       "    .dataframe tbody tr th {\n",
       "        vertical-align: top;\n",
       "    }\n",
       "\n",
       "    .dataframe thead th {\n",
       "        text-align: right;\n",
       "    }\n",
       "</style>\n",
       "<table border=\"1\" class=\"dataframe\">\n",
       "  <thead>\n",
       "    <tr style=\"text-align: right;\">\n",
       "      <th></th>\n",
       "      <th>date</th>\n",
       "      <th>시도구</th>\n",
       "      <th>이산화황(SO2)</th>\n",
       "      <th>일산화탄소(CO)</th>\n",
       "      <th>오존(O3)</th>\n",
       "      <th>이산화질소(NO2)</th>\n",
       "      <th>PM10</th>\n",
       "      <th>PM25</th>\n",
       "      <th>지역</th>\n",
       "      <th>측정소코드</th>\n",
       "      <th>측정소명</th>\n",
       "      <th>망_x</th>\n",
       "      <th>망_y</th>\n",
       "    </tr>\n",
       "  </thead>\n",
       "  <tbody>\n",
       "    <tr>\n",
       "      <th>0</th>\n",
       "      <td>2016-01-01</td>\n",
       "      <td>서울특별시</td>\n",
       "      <td>0.005458</td>\n",
       "      <td>1.016667</td>\n",
       "      <td>0.005021</td>\n",
       "      <td>0.052271</td>\n",
       "      <td>71.0625</td>\n",
       "      <td>44.208333</td>\n",
       "      <td>강남구</td>\n",
       "      <td>Ae30</td>\n",
       "      <td>강남구</td>\n",
       "      <td>0.0</td>\n",
       "      <td>0.0</td>\n",
       "    </tr>\n",
       "    <tr>\n",
       "      <th>1</th>\n",
       "      <td>2016-01-01</td>\n",
       "      <td>서울특별시</td>\n",
       "      <td>0.004833</td>\n",
       "      <td>0.900000</td>\n",
       "      <td>0.002175</td>\n",
       "      <td>0.046167</td>\n",
       "      <td>71.0625</td>\n",
       "      <td>45.416667</td>\n",
       "      <td>강동구</td>\n",
       "      <td>Ad47</td>\n",
       "      <td>강동구</td>\n",
       "      <td>0.0</td>\n",
       "      <td>0.0</td>\n",
       "    </tr>\n",
       "  </tbody>\n",
       "</table>\n",
       "</div>"
      ],
      "text/plain": [
       "         date    시도구  이산화황(SO2)  일산화탄소(CO)    오존(O3)  이산화질소(NO2)     PM10  \\\n",
       "0  2016-01-01  서울특별시   0.005458   1.016667  0.005021    0.052271  71.0625   \n",
       "1  2016-01-01  서울특별시   0.004833   0.900000  0.002175    0.046167  71.0625   \n",
       "\n",
       "        PM25   지역 측정소코드 측정소명  망_x  망_y  \n",
       "0  44.208333  강남구  Ae30  강남구  0.0  0.0  \n",
       "1  45.416667  강동구  Ad47  강동구  0.0  0.0  "
      ]
     },
     "execution_count": 6,
     "metadata": {},
     "output_type": "execute_result"
    }
   ],
   "source": [
    "air_2016_seoul.head(2)"
   ]
  },
  {
   "cell_type": "code",
   "execution_count": 7,
   "metadata": {},
   "outputs": [],
   "source": [
    "# 필요없는 컬럼 삭제\n",
    "air_2016_seoul = air_2016_seoul.drop(columns=['측정소코드','측정소명','망_x','망_y'])\n",
    "air_2017_seoul = air_2017_seoul.drop(columns=['측정소코드','측정소명','망_x','망_y'])\n",
    "air_2018_seoul = air_2018_seoul.drop(columns=['측정소코드','측정소명','망_x','망_y'])\n",
    "\n",
    "# 컬럼순서 변경\n",
    "air_2016_seoul = air_2016_seoul.iloc[:,[1,0,2,3,4,5,6,7,8]]\n",
    "air_2017_seoul = air_2017_seoul.iloc[:,[1,0,2,3,4,5,6,7,8]]\n",
    "air_2018_seoul = air_2018_seoul.iloc[:,[1,0,2,3,4,5,6,7,8]]\n",
    "\n",
    "# 컬럼명 변경\n",
    "air_2016_seoul.columns = [\"pvn_nm\", \"date\",\"SO2\",\"CO\",\"O3\",\"NO2\",\"PM10\",\"PM25\",\"bor_nm\"]\n",
    "air_2017_seoul.columns = [\"pvn_nm\", \"date\",\"SO2\",\"CO\",\"O3\",\"NO2\",\"PM10\",\"PM25\",\"bor_nm\"]\n",
    "air_2018_seoul.columns = [\"pvn_nm\", \"date\",\"SO2\",\"CO\",\"O3\",\"NO2\",\"PM10\",\"PM25\",\"bor_nm\"]"
   ]
  },
  {
   "cell_type": "code",
   "execution_count": 8,
   "metadata": {},
   "outputs": [],
   "source": [
    "# bor_nm 조정\n",
    "air_2016_seoul['bor_nm'] = air_2016_seoul['bor_nm'].str.split(' ',expand=True)[1]\n",
    "air_2017_seoul['bor_nm'] = air_2017_seoul['bor_nm'].str.split(' ',expand=True)[1]\n",
    "air_2018_seoul['bor_nm'] = air_2018_seoul['bor_nm'].str.split(' ',expand=True)[1]"
   ]
  },
  {
   "cell_type": "code",
   "execution_count": 9,
   "metadata": {},
   "outputs": [],
   "source": [
    "# date 시간 조정\n",
    "air_2016_seoul[\"date\"] = air_2016_seoul[\"date\"].astype(str)\n",
    "air_2016_seoul[\"date\"] = air_2016_seoul[\"date\"].str[:8]\n",
    "air_2016_seoul['date'] = air_2016_seoul['date'].str[:4] + '-' + air_2016_seoul['date'].str[4:]\n",
    "air_2016_seoul['date'] = air_2016_seoul['date'].str[:7] + '-' + air_2016_seoul['date'].str[7:]\n",
    "air_2017_seoul[\"date\"] = air_2017_seoul[\"date\"].astype(str)\n",
    "air_2017_seoul[\"date\"] = air_2017_seoul[\"date\"].str[:8]\n",
    "air_2017_seoul['date'] = air_2017_seoul['date'].str[:4] + '-' + air_2017_seoul['date'].str[4:]\n",
    "air_2017_seoul['date'] = air_2017_seoul['date'].str[:7] + '-' + air_2017_seoul['date'].str[7:]\n",
    "air_2018_seoul[\"date\"] = air_2018_seoul[\"date\"].astype(str)\n",
    "air_2018_seoul[\"date\"] = air_2018_seoul[\"date\"].str[:8]\n",
    "air_2018_seoul['date'] = air_2018_seoul['date'].str[:4] + '-' + air_2018_seoul['date'].str[4:]\n",
    "air_2018_seoul['date'] = air_2018_seoul['date'].str[:7] + '-' + air_2018_seoul['date'].str[7:]"
   ]
  },
  {
   "cell_type": "code",
   "execution_count": 10,
   "metadata": {},
   "outputs": [],
   "source": [
    "# 대기 오염 데이터 정제 일자별(평균값으로) 조정\n",
    "air_2016_seoul = air_2016_seoul.loc[(air_2016_seoul['pvn_nm']=='서울특별시')].groupby(['date','bor_nm']).mean()\n",
    "air_2017_seoul = air_2017_seoul.loc[(air_2017_seoul['pvn_nm']=='서울특별시')].groupby(['date','bor_nm']).mean()\n",
    "air_2018_seoul = air_2018_seoul.loc[(air_2018_seoul['pvn_nm']=='서울특별시')].groupby(['date','bor_nm']).mean()\n",
    "\n",
    "# index로 조정\n",
    "air_2016_seoul = air_2016_seoul.reset_index()\n",
    "air_2017_seoul = air_2017_seoul.reset_index()\n",
    "air_2018_seoul = air_2018_seoul.reset_index()"
   ]
  },
  {
   "cell_type": "code",
   "execution_count": 11,
   "metadata": {},
   "outputs": [
    {
     "data": {
      "text/html": [
       "<div>\n",
       "<style scoped>\n",
       "    .dataframe tbody tr th:only-of-type {\n",
       "        vertical-align: middle;\n",
       "    }\n",
       "\n",
       "    .dataframe tbody tr th {\n",
       "        vertical-align: top;\n",
       "    }\n",
       "\n",
       "    .dataframe thead th {\n",
       "        text-align: right;\n",
       "    }\n",
       "</style>\n",
       "<table border=\"1\" class=\"dataframe\">\n",
       "  <thead>\n",
       "    <tr style=\"text-align: right;\">\n",
       "      <th></th>\n",
       "      <th>date</th>\n",
       "      <th>bor_nm</th>\n",
       "      <th>SO2</th>\n",
       "      <th>CO</th>\n",
       "      <th>O3</th>\n",
       "      <th>NO2</th>\n",
       "      <th>PM10</th>\n",
       "      <th>PM25</th>\n",
       "    </tr>\n",
       "  </thead>\n",
       "  <tbody>\n",
       "    <tr>\n",
       "      <th>0</th>\n",
       "      <td>2016-01-01</td>\n",
       "      <td>강남구</td>\n",
       "      <td>0.005458</td>\n",
       "      <td>1.016667</td>\n",
       "      <td>0.005021</td>\n",
       "      <td>0.052271</td>\n",
       "      <td>71.062500</td>\n",
       "      <td>44.208333</td>\n",
       "    </tr>\n",
       "    <tr>\n",
       "      <th>1</th>\n",
       "      <td>2016-01-01</td>\n",
       "      <td>강동구</td>\n",
       "      <td>0.004833</td>\n",
       "      <td>0.900000</td>\n",
       "      <td>0.002175</td>\n",
       "      <td>0.046167</td>\n",
       "      <td>71.062500</td>\n",
       "      <td>45.416667</td>\n",
       "    </tr>\n",
       "    <tr>\n",
       "      <th>2</th>\n",
       "      <td>2016-01-01</td>\n",
       "      <td>강북구</td>\n",
       "      <td>0.004333</td>\n",
       "      <td>1.087500</td>\n",
       "      <td>0.004167</td>\n",
       "      <td>0.046417</td>\n",
       "      <td>73.666667</td>\n",
       "      <td>51.666667</td>\n",
       "    </tr>\n",
       "    <tr>\n",
       "      <th>3</th>\n",
       "      <td>2016-01-01</td>\n",
       "      <td>강서구</td>\n",
       "      <td>0.005042</td>\n",
       "      <td>1.012500</td>\n",
       "      <td>0.004458</td>\n",
       "      <td>0.037458</td>\n",
       "      <td>69.666667</td>\n",
       "      <td>26.123503</td>\n",
       "    </tr>\n",
       "    <tr>\n",
       "      <th>4</th>\n",
       "      <td>2016-01-01</td>\n",
       "      <td>관악구</td>\n",
       "      <td>0.005292</td>\n",
       "      <td>1.137500</td>\n",
       "      <td>0.008792</td>\n",
       "      <td>0.051500</td>\n",
       "      <td>65.500000</td>\n",
       "      <td>44.208333</td>\n",
       "    </tr>\n",
       "  </tbody>\n",
       "</table>\n",
       "</div>"
      ],
      "text/plain": [
       "         date bor_nm       SO2        CO        O3       NO2       PM10  \\\n",
       "0  2016-01-01    강남구  0.005458  1.016667  0.005021  0.052271  71.062500   \n",
       "1  2016-01-01    강동구  0.004833  0.900000  0.002175  0.046167  71.062500   \n",
       "2  2016-01-01    강북구  0.004333  1.087500  0.004167  0.046417  73.666667   \n",
       "3  2016-01-01    강서구  0.005042  1.012500  0.004458  0.037458  69.666667   \n",
       "4  2016-01-01    관악구  0.005292  1.137500  0.008792  0.051500  65.500000   \n",
       "\n",
       "        PM25  \n",
       "0  44.208333  \n",
       "1  45.416667  \n",
       "2  51.666667  \n",
       "3  26.123503  \n",
       "4  44.208333  "
      ]
     },
     "execution_count": 11,
     "metadata": {},
     "output_type": "execute_result"
    }
   ],
   "source": [
    "air_2016_seoul.head()"
   ]
  },
  {
   "cell_type": "code",
   "execution_count": 12,
   "metadata": {},
   "outputs": [],
   "source": [
    "# air_2016_seoul 원하는 행 삭제 \n",
    "air_2016_seoul = air_2016_seoul[air_2016_seoul.bor_nm != '강서로45다길']\n",
    "air_2017_seoul = air_2017_seoul[air_2017_seoul.bor_nm != '강서로45다길']\n",
    "air_2018_seoul = air_2018_seoul[air_2018_seoul.bor_nm != '강서로45다길']"
   ]
  },
  {
   "cell_type": "code",
   "execution_count": 13,
   "metadata": {},
   "outputs": [],
   "source": [
    "weather.loc[(weather['cloud']>8) \n",
    "            & (weather['rain']>0) \n",
    "            & (weather['humid']>80) \n",
    "            & (weather['hpa']>1002)\n",
    "            & (weather['month'].between(6,9, inclusive=True))\n",
    "            & (weather['loc']==143), ['loc','temp','year','month']].groupby(['loc','year','month']).mean()"
   ]
  },
  {
   "cell_type": "code",
   "execution_count": 14,
   "metadata": {},
   "outputs": [
    {
     "data": {
      "text/plain": [
       "SO2      0.004405\n",
       "CO       0.529702\n",
       "O3       0.021924\n",
       "NO2      0.031227\n",
       "PM10    41.265249\n",
       "PM25    23.409311\n",
       "dtype: float64"
      ]
     },
     "execution_count": 14,
     "metadata": {},
     "output_type": "execute_result"
    }
   ],
   "source": [
    "#  평균값 구하기 \n",
    "air_2018_seoul.loc[(air_2018_seoul['date'] > '2018-01-01')\n",
    "                   & (air_2018_seoul['date'] < '2018-12-30')\n",
    "                   & (air_2018_seoul['SO2'])\n",
    "                  ].mean()"
   ]
  },
  {
   "cell_type": "code",
   "execution_count": 15,
   "metadata": {},
   "outputs": [],
   "source": [
    "# air_2016_seoul NULL값 년 평균으로 수정\n",
    "\n",
    "air_2016_seoul.loc[(air_2016_seoul['SO2'].isna()) \n",
    "                   & (air_2016_seoul['date'] >='2016-01-01') \n",
    "                   & (air_2016_seoul['date'] <='2016-12-31'), 'SO2'] = 0.004840\n",
    "\n",
    "air_2016_seoul.loc[(air_2016_seoul['CO'].isna()) \n",
    "                   & (air_2016_seoul['date'] >='2016-01-01') \n",
    "                   & (air_2016_seoul['date'] <='2016-12-31'), 'CO'] = 0.539631\n",
    "\n",
    "air_2016_seoul.loc[(air_2016_seoul['O3'].isna()) \n",
    "                   & (air_2016_seoul['date'] >='2016-01-01') \n",
    "                   & (air_2016_seoul['date'] <='2016-12-31'), 'O3'] = 0.022863\n",
    "\n",
    "air_2016_seoul.loc[(air_2016_seoul['NO2'].isna()) \n",
    "                   & (air_2016_seoul['date'] >='2016-01-01') \n",
    "                   & (air_2016_seoul['date'] <='2016-12-31'), 'NO2'] = 0.033444\n",
    "\n",
    "air_2016_seoul.loc[(air_2016_seoul['PM10'].isna()) \n",
    "                   & (air_2016_seoul['date'] >='2016-01-01') \n",
    "                   & (air_2016_seoul['date'] <='2016-12-31'), 'PM10'] = 45.943508\n",
    "\n",
    "air_2016_seoul.loc[(air_2016_seoul['PM25'].isna()) \n",
    "                   & (air_2016_seoul['date'] >='2016-01-01') \n",
    "                   & (air_2016_seoul['date'] <='2016-12-31'), 'PM25'] = 24.334075"
   ]
  },
  {
   "cell_type": "code",
   "execution_count": 16,
   "metadata": {},
   "outputs": [
    {
     "data": {
      "text/plain": [
       "date      0\n",
       "bor_nm    0\n",
       "SO2       0\n",
       "CO        0\n",
       "O3        0\n",
       "NO2       0\n",
       "PM10      0\n",
       "PM25      0\n",
       "dtype: int64"
      ]
     },
     "execution_count": 16,
     "metadata": {},
     "output_type": "execute_result"
    }
   ],
   "source": [
    "air_2016_seoul.isnull().sum()"
   ]
  },
  {
   "cell_type": "code",
   "execution_count": 17,
   "metadata": {},
   "outputs": [],
   "source": [
    "# air_2017_seoul NULL값 년 평균으로 수정\n",
    "\n",
    "air_2017_seoul.loc[(air_2017_seoul['SO2'].isna()) \n",
    "                   & (air_2017_seoul['date'] >='2017-01-01') \n",
    "                   & (air_2017_seoul['date'] <='2017-12-31'), 'SO2'] = 0.005080\n",
    "\n",
    "air_2017_seoul.loc[(air_2017_seoul['CO'].isna()) \n",
    "                   & (air_2017_seoul['date'] >='2017-01-01') \n",
    "                   & (air_2017_seoul['date'] <='2017-12-31'), 'CO'] = 0.561291\n",
    "\n",
    "air_2017_seoul.loc[(air_2017_seoul['O3'].isna()) \n",
    "                   & (air_2017_seoul['date'] >='2017-01-01') \n",
    "                   & (air_2017_seoul['date'] <='2017-12-31'), 'O3'] = 0.021822\n",
    "\n",
    "air_2017_seoul.loc[(air_2017_seoul['NO2'].isna()) \n",
    "                   & (air_2017_seoul['date'] >='2017-01-01') \n",
    "                   & (air_2017_seoul['date'] <='2017-12-31'), 'NO2'] = 0.036369\n",
    "\n",
    "air_2017_seoul.loc[(air_2017_seoul['PM10'].isna()) \n",
    "                   & (air_2017_seoul['date'] >='2017-01-01') \n",
    "                   & (air_2017_seoul['date'] <='2017-12-31'), 'PM10'] = 49.972778\n",
    "\n",
    "air_2017_seoul.loc[(air_2017_seoul['PM25'].isna()) \n",
    "                   & (air_2017_seoul['date'] >='2017-01-01') \n",
    "                   & (air_2017_seoul['date'] <='2017-12-31'), 'PM25'] = 26.123503"
   ]
  },
  {
   "cell_type": "code",
   "execution_count": 18,
   "metadata": {},
   "outputs": [
    {
     "data": {
      "text/plain": [
       "date      0\n",
       "bor_nm    0\n",
       "SO2       0\n",
       "CO        0\n",
       "O3        0\n",
       "NO2       0\n",
       "PM10      0\n",
       "PM25      0\n",
       "dtype: int64"
      ]
     },
     "execution_count": 18,
     "metadata": {},
     "output_type": "execute_result"
    }
   ],
   "source": [
    "air_2017_seoul.isnull().sum()"
   ]
  },
  {
   "cell_type": "code",
   "execution_count": 19,
   "metadata": {},
   "outputs": [],
   "source": [
    "# air_2018_seoul NULL값 년 평균으로 수정\n",
    "\n",
    "air_2018_seoul.loc[(air_2018_seoul['SO2'].isna()) \n",
    "                   & (air_2018_seoul['date'] >='2018-01-01') \n",
    "                   & (air_2018_seoul['date'] <='2018-12-31'), 'SO2'] = 0.004405\n",
    "\n",
    "air_2018_seoul.loc[(air_2018_seoul['CO'].isna()) \n",
    "                   & (air_2018_seoul['date'] >='2018-01-01') \n",
    "                   & (air_2018_seoul['date'] <='2018-12-31'), 'CO'] = 0.529557\n",
    "\n",
    "air_2018_seoul.loc[(air_2018_seoul['O3'].isna()) \n",
    "                   & (air_2018_seoul['date'] >='2018-01-01') \n",
    "                   & (air_2018_seoul['date'] <='2018-12-31'), 'O3'] = 0.021912\n",
    "\n",
    "air_2018_seoul.loc[(air_2018_seoul['NO2'].isna()) \n",
    "                   & (air_2018_seoul['date'] >='2018-01-01') \n",
    "                   & (air_2018_seoul['date'] <='2018-12-31'), 'NO2'] = 0.031228\n",
    "\n",
    "air_2018_seoul.loc[(air_2018_seoul['PM10'].isna()) \n",
    "                   & (air_2018_seoul['date'] >='2018-01-01') \n",
    "                   & (air_2018_seoul['date'] <='2018-12-31'), 'PM10'] = 41.168559\n",
    "\n",
    "air_2018_seoul.loc[(air_2018_seoul['PM25'].isna()) \n",
    "                   & (air_2018_seoul['date'] >='2018-01-01') \n",
    "                   & (air_2018_seoul['date'] <='2018-12-31'), 'PM25'] = 23.371562"
   ]
  },
  {
   "cell_type": "code",
   "execution_count": 20,
   "metadata": {},
   "outputs": [
    {
     "data": {
      "text/plain": [
       "date      0\n",
       "bor_nm    0\n",
       "SO2       0\n",
       "CO        0\n",
       "O3        0\n",
       "NO2       0\n",
       "PM10      0\n",
       "PM25      0\n",
       "dtype: int64"
      ]
     },
     "execution_count": 20,
     "metadata": {},
     "output_type": "execute_result"
    }
   ],
   "source": [
    "air_2018_seoul.isnull().sum()"
   ]
  },
  {
   "cell_type": "markdown",
   "metadata": {},
   "source": [
    "# 마무리 저장 "
   ]
  },
  {
   "cell_type": "code",
   "execution_count": 21,
   "metadata": {},
   "outputs": [
    {
     "name": "stdout",
     "output_type": "stream",
     "text": [
      "saving done!\n"
     ]
    }
   ],
   "source": [
    "air_2016_seoul.to_csv('d:/project/contest/data/processed/air_2016_seoul.csv', index=False, encoding='utf-8')\n",
    "air_2017_seoul.to_csv('d:/project/contest/data/processed/air_2017_seoul.csv', index=False, encoding='utf-8')\n",
    "air_2018_seoul.to_csv('d:/project/contest/data/processed/air_2018_seoul.csv', index=False, encoding='utf-8')\n",
    "print('saving done!')"
   ]
  }
 ],
 "metadata": {
  "celltoolbar": "Attachments",
  "kernelspec": {
   "display_name": "Python 3",
   "language": "python",
   "name": "python3"
  },
  "language_info": {
   "codemirror_mode": {
    "name": "ipython",
    "version": 3
   },
   "file_extension": ".py",
   "mimetype": "text/x-python",
   "name": "python",
   "nbconvert_exporter": "python",
   "pygments_lexer": "ipython3",
   "version": "3.6.8"
  }
 },
 "nbformat": 4,
 "nbformat_minor": 2
}
