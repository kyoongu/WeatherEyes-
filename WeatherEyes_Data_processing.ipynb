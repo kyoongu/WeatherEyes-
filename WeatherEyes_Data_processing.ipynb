{
 "cells": [
  {
   "cell_type": "markdown",
   "metadata": {},
   "source": [
    "# 패키지 로딩 및 환경 준비"
   ]
  },
  {
   "cell_type": "code",
   "execution_count": 1,
   "metadata": {},
   "outputs": [],
   "source": [
    "# 필요한 기본 패키지 준비\n",
    "%matplotlib inline\n",
    "import numpy as np\n",
    "import pandas as pd\n",
    "import matplotlib\n",
    "import matplotlib.pyplot as plt\n",
    "from matplotlib import rc, font_manager\n",
    "import datetime as dt\n",
    "\n",
    "# 한글 처리\n",
    "font_name = font_manager.FontProperties(fname='C:/Windows/Fonts/NanumGothicCoding.ttf').get_name()\n",
    "rc('font',family=font_name)\n",
    "\n",
    "# - 마이너스 사인 처리\n",
    "matplotlib.rcParams['axes.unicode_minus'] = False\n",
    "\n",
    "# jupyter notebook에서 warning 무시하기\n",
    "import warnings\n",
    "warnings.filterwarnings(\"ignore\")"
   ]
  },
  {
   "cell_type": "markdown",
   "metadata": {},
   "source": [
    "# 데이터 로딩 및 열(column) 순서 정렬"
   ]
  },
  {
   "cell_type": "code",
   "execution_count": 2,
   "metadata": {},
   "outputs": [],
   "source": [
    "# 데이터 불러오기\n",
    "gs = pd.read_csv('E:/Python/csv/korea_cvs.csv')\n",
    "lavla = pd.read_csv('E:/Python/csv/korea_hnb.csv')\n",
    "weather = pd.read_csv('E:/Python/csv/weather.csv', encoding='euc-kr')"
   ]
  },
  {
   "cell_type": "code",
   "execution_count": 3,
   "metadata": {},
   "outputs": [
    {
     "data": {
      "text/html": [
       "<div>\n",
       "<style scoped>\n",
       "    .dataframe tbody tr th:only-of-type {\n",
       "        vertical-align: middle;\n",
       "    }\n",
       "\n",
       "    .dataframe tbody tr th {\n",
       "        vertical-align: top;\n",
       "    }\n",
       "\n",
       "    .dataframe thead th {\n",
       "        text-align: right;\n",
       "    }\n",
       "</style>\n",
       "<table border=\"1\" class=\"dataframe\">\n",
       "  <thead>\n",
       "    <tr style=\"text-align: right;\">\n",
       "      <th></th>\n",
       "      <th>loc</th>\n",
       "      <th>date</th>\n",
       "      <th>temp</th>\n",
       "      <th>rain</th>\n",
       "      <th>cloud</th>\n",
       "      <th>wind</th>\n",
       "      <th>humid</th>\n",
       "      <th>hpa</th>\n",
       "      <th>sun_time</th>\n",
       "      <th>lgt_time</th>\n",
       "      <th>snow</th>\n",
       "    </tr>\n",
       "  </thead>\n",
       "  <tbody>\n",
       "    <tr>\n",
       "      <th>0</th>\n",
       "      <td>108</td>\n",
       "      <td>2016-01-01</td>\n",
       "      <td>1.2</td>\n",
       "      <td>0.0</td>\n",
       "      <td>7.0</td>\n",
       "      <td>1.6</td>\n",
       "      <td>73.0</td>\n",
       "      <td>1019.9</td>\n",
       "      <td>9.6</td>\n",
       "      <td>2.1</td>\n",
       "      <td>0.0</td>\n",
       "    </tr>\n",
       "    <tr>\n",
       "      <th>1</th>\n",
       "      <td>108</td>\n",
       "      <td>2016-01-02</td>\n",
       "      <td>5.7</td>\n",
       "      <td>0.0</td>\n",
       "      <td>7.8</td>\n",
       "      <td>2.0</td>\n",
       "      <td>76.9</td>\n",
       "      <td>1012.0</td>\n",
       "      <td>9.6</td>\n",
       "      <td>3.6</td>\n",
       "      <td>0.0</td>\n",
       "    </tr>\n",
       "  </tbody>\n",
       "</table>\n",
       "</div>"
      ],
      "text/plain": [
       "   loc        date  temp  rain  cloud  wind  humid     hpa  sun_time  \\\n",
       "0  108  2016-01-01   1.2   0.0    7.0   1.6   73.0  1019.9       9.6   \n",
       "1  108  2016-01-02   5.7   0.0    7.8   2.0   76.9  1012.0       9.6   \n",
       "\n",
       "   lgt_time  snow  \n",
       "0       2.1   0.0  \n",
       "1       3.6   0.0  "
      ]
     },
     "execution_count": 3,
     "metadata": {},
     "output_type": "execute_result"
    }
   ],
   "source": [
    "weather.head(2)"
   ]
  },
  {
   "cell_type": "code",
   "execution_count": 4,
   "metadata": {},
   "outputs": [],
   "source": [
    "# 컬럼네임 짧게 변형\n",
    "gs.columns = ['pvn_nm','sale_dt','gender','age_cd','category','qty','bor_nm']\n",
    "lavla.columns = ['pvn_nm','bor_nm','sale_dt','gender','age_cd','category','qty']\n",
    "\n",
    "# 개인적인 편의를 위해 열(column)순서 변경\n",
    "# gs및 lavla의 column순서가 동일하게 됨.\n",
    "# 시, 구, 구매일, 성별, 나이, 물품, 수량 순으로 변경\n",
    "gs = gs.iloc[:,[0,6,1,2,3,4,5]]\n",
    "\n",
    "# 내가 원하는 순서대로 변경됨."
   ]
  },
  {
   "cell_type": "code",
   "execution_count": 5,
   "metadata": {},
   "outputs": [],
   "source": [
    "# 날씨데이터 정제\n",
    "\n",
    "# 참고 : 날씨데이터에는 날짜가 string객체, yyyy-mm-dd형태로 들어와 있음\n",
    "# 년/월/일/요일 추가\n",
    "# 향후 작업을 편히 하기 위함, year, month, day 컬럼 생성\n",
    "\n",
    "# 그냥 아무생각없이 int32타입으로 함. 원한다면 다른타입으로해도 상관없음\n",
    "#   주의 할점은, 여기서 str으로 했다면 전부str, int로 했다면 전부int, datetime이면 전부 datetime으로\n",
    "# gs편의점이나 랄라블라의 데이터셋에서도 같은 타입으로 설정 해주어야 편해진다.\n",
    "weather['year'] = weather['date'].str.split('-',expand=True)[0].astype('int32')\n",
    "weather['month'] = weather['date'].str.split('-',expand=True)[1].astype('int32')\n",
    "weather['day'] = weather['date'].str.split('-',expand=True)[2].astype('int32')\n",
    "weather['weekday']=pd.to_datetime(weather['date']).apply(pd.datetime.weekday)\n",
    "# string 날짜를 pd.datetime으로 \n",
    "weather['date'] = pd.to_datetime(weather['date'])\n",
    "weather['nth_week'] = weather['date'].dt.week"
   ]
  },
  {
   "cell_type": "markdown",
   "metadata": {},
   "source": [
    "# 데이터 전처리"
   ]
  },
  {
   "cell_type": "code",
   "execution_count": 6,
   "metadata": {},
   "outputs": [],
   "source": [
    "# gs/lavla 날짜는 숫자로 들어와 있음\n",
    "\n",
    "# gs데이터 정제 : 년/월/일/요일 추가\n",
    "# 정수 나눗셈, 소숫점이하 버림 예) 20161225 // 10000 = 2016\n",
    "gs['year'] = gs['sale_dt'] // 10000\n",
    "\n",
    "# 년도를빼고 월일만 남겨둔뒤 월계산.\n",
    "# 예) 20161212 -20160000 = 1225      1225 //100 = 12\n",
    "gs['month'] = (gs['sale_dt'] - gs['year']*10000) // 100\n",
    "\n",
    "# 년, 월 빼서 일 계산 \n",
    "# 20161212 -2016*10000 - 12*100 - 25\n",
    "gs['day'] = gs['sale_dt'] - gs['year']*10000 - gs['month']*100\n",
    "\n",
    "# datetime 타입의 자료로 변화해서 'date'컬럼에 저장\n",
    "# 현시점에선 year, month, day 컬럼이 맨오른쪽 3번째 부터 쭈르륵 나열 되어있음\n",
    "gs['date'] = pd.to_datetime(gs.iloc[:,-3:])\n",
    "\n",
    "# 참고 : 요일은 월요일(0)~일요일(6)의 숫자로 표현됨\n",
    "gs['weekday']=pd.to_datetime(gs['date']).apply(pd.datetime.weekday)\n",
    "\n",
    "# 그 해를 시작하고 몇번째 주 인지 알려주는 컬럼 생성\n",
    "gs['nth_week']= gs['date'].dt.week"
   ]
  },
  {
   "cell_type": "code",
   "execution_count": 8,
   "metadata": {},
   "outputs": [],
   "source": [
    "# 랄라블라 데이터 정제 \n",
    "lavla['year'] = lavla['sale_dt'] // 10000\n",
    "lavla['month'] = (lavla['sale_dt'] - lavla['year']*10000) // 100\n",
    "lavla['day'] = lavla['sale_dt'] - lavla['year']*10000 - lavla['month']*100\n",
    "lavla['date'] = pd.to_datetime(lavla.iloc[:,-3:])\n",
    "lavla['weekday']=pd.to_datetime(lavla['date']).apply(pd.datetime.weekday)\n",
    "lavla['nth_week'] = lavla['date'].dt.week"
   ]
  },
  {
   "cell_type": "code",
   "execution_count": 9,
   "metadata": {},
   "outputs": [],
   "source": [
    "# 부산(143) 2017/07/29일의\n",
    "# 구름량(8초과), 비오는날(강수량 0초과), 습도(80초과), 기압(1002초과), 여름계절(6~9월달) 조건과 비슷한\n",
    "# 부산 지역의 2017/07월 평균 값으로 대체하기 위한 평균 기온 계산\n",
    "weather.loc[(weather['cloud']>8) \n",
    "            & (weather['rain']>0) \n",
    "            & (weather['humid']>80) \n",
    "            & (weather['hpa']>1002)\n",
    "            & (weather['month'].between(6,9, inclusive=True))\n",
    "            & (weather['loc']==143), ['loc','temp','year','month']].groupby(['loc','year','month']).mean()"
   ]
  },
  {
   "cell_type": "markdown",
   "metadata": {},
   "source": [
    "## 결측치 처리"
   ]
  },
  {
   "cell_type": "code",
   "execution_count": 10,
   "metadata": {},
   "outputs": [],
   "source": [
    "# 부산 지역의 7월 평균 값으로 대체\n",
    "# 25.96 약 26도\n",
    "# 3683은 사전에 결측치로 확인해서 미리 찾아둠 행(row)위치 찾음.\n",
    "weather.loc[3863,'temp'] = 26.0\n",
    "\n",
    "# 강수량및 적설량의 결측치는 비/눈이 오지 않은것이라 판단 0으로 대체\n",
    "weather.loc[weather['rain'].isna(),'rain'] = 0\n",
    "weather.loc[weather['snow'].isna(),'snow'] = 0\n",
    "\n",
    "# 일조시간은 극적인 변화를 보이지 않을 것이라 판단 결측치 바로 전날 값으로 채우기로 결정\n",
    "weather['lgt_time']=weather['lgt_time'].fillna(method='ffill')\n",
    "weather['sun_time']=weather['sun_time'].fillna(method='ffill')\n",
    "# method='ffill'  : forward fill인가 그 비슷한 뜻으로 전값으로 넣겠다는 뜻\n",
    "\n",
    "# 평균기압(hpa)은 극적인 변화를 보이지 않을 것이라 판단 결측치 바로 전날 값으로 채우기로 결정\n",
    "weather['hpa']=weather['hpa'].fillna(method='ffill')"
   ]
  },
  {
   "cell_type": "code",
   "execution_count": 11,
   "metadata": {},
   "outputs": [],
   "source": [
    "# 풍속(wind) 결측치가 포함된 달의 평균풍속으로 대체\n",
    "\n",
    "# print('2017/10의 평균 풍속', weather.loc[(weather['loc']==108)&(weather['year']==2017) & (weather['month']==10), 'wind'].mean())\n",
    "# 1.9366666666666663\n",
    "weather.loc[(weather['wind'].isna()) &(weather['year']==2017) & (weather['month']==10), 'wind'] = 1.9\n",
    "\n",
    "# print('2017/12의 평균 풍속', weather.loc[(weather['loc']==108)&(weather['year']==2017) & (weather['month']==12), 'wind'].mean() )\n",
    "# 1.7827586206896548\n",
    "weather.loc[(weather['wind'].isna()) &(weather['year']==2017) & (weather['month']==12), 'wind'] = 1.8\n",
    "\n",
    "# print('2018/07의 평균 풍속', weather.loc[(weather['loc']==112)&(weather['year']==2018) & (weather['month']==7), 'wind'].mean() )\n",
    "# 1.6903225806451612\n",
    "weather.loc[(weather['wind'].isna()) & (weather['year']==2018) & (weather['month']==7), 'wind'] = 1.7"
   ]
  },
  {
   "cell_type": "code",
   "execution_count": 12,
   "metadata": {},
   "outputs": [
    {
     "data": {
      "text/plain": [
       "loc         0\n",
       "date        0\n",
       "temp        0\n",
       "rain        0\n",
       "cloud       0\n",
       "wind        0\n",
       "humid       0\n",
       "hpa         0\n",
       "sun_time    0\n",
       "lgt_time    0\n",
       "snow        0\n",
       "dtype: int64"
      ]
     },
     "execution_count": 12,
     "metadata": {},
     "output_type": "execute_result"
    }
   ],
   "source": [
    "# 결측치 확인\n",
    "weather.isnull().sum()\n",
    "# 결측치 제거 확인"
   ]
  },
  {
   "cell_type": "markdown",
   "metadata": {},
   "source": [
    "## 데이터 중간 저장"
   ]
  },
  {
   "cell_type": "code",
   "execution_count": 14,
   "metadata": {},
   "outputs": [
    {
     "name": "stdout",
     "output_type": "stream",
     "text": [
      "saving done!\n"
     ]
    }
   ],
   "source": [
    "gs.to_csv('E:/Python/처리된 csv자료/p_gs.csv', index=False, encoding='utf-8')\n",
    "lavla.to_csv('E:/Python/처리된 csv자료/p_lavla.csv', index=False, encoding='utf-8')\n",
    "weather.to_csv('E:/Python/처리된 csv자료/p_weather.csv', index=False, encoding='utf-8')\n",
    "print('saving done!')"
   ]
  },
  {
   "cell_type": "markdown",
   "metadata": {},
   "source": [
    "## 데이터 기본 정보 확인"
   ]
  },
  {
   "cell_type": "code",
   "execution_count": 15,
   "metadata": {},
   "outputs": [
    {
     "name": "stdout",
     "output_type": "stream",
     "text": [
      "<class 'pandas.core.frame.DataFrame'>\n",
      "RangeIndex: 2707786 entries, 0 to 2707785\n",
      "Data columns (total 7 columns):\n",
      "korea_cvs.pvn_nm      object\n",
      "korea_cvs.sale_dt     int64\n",
      "korea_cvs.gen_cd      object\n",
      "korea_cvs.age_cd      object\n",
      "korea_cvs.category    object\n",
      "korea_cvs.adj_qty     int64\n",
      "korea_cvs.bor_nm      object\n",
      "dtypes: int64(2), object(5)\n",
      "memory usage: 144.6+ MB\n",
      "<class 'pandas.core.frame.DataFrame'>\n",
      "RangeIndex: 820274 entries, 0 to 820273\n",
      "Data columns (total 7 columns):\n",
      "korea_hnb.pvn_nm      820274 non-null object\n",
      "korea_hnb.bor_nm      820274 non-null object\n",
      "korea_hnb.sale_dt     820274 non-null int64\n",
      "korea_hnb.gen_cd      820274 non-null object\n",
      "korea_hnb.age_cd      820274 non-null object\n",
      "korea_hnb.category    820274 non-null object\n",
      "korea_hnb.qty         820274 non-null int64\n",
      "dtypes: int64(2), object(5)\n",
      "memory usage: 43.8+ MB\n",
      "<class 'pandas.core.frame.DataFrame'>\n",
      "RangeIndex: 7672 entries, 0 to 7671\n",
      "Data columns (total 11 columns):\n",
      "loc         7672 non-null int64\n",
      "date        7672 non-null object\n",
      "temp        7672 non-null float64\n",
      "rain        7672 non-null float64\n",
      "cloud       7672 non-null float64\n",
      "wind        7672 non-null float64\n",
      "humid       7672 non-null float64\n",
      "hpa         7672 non-null float64\n",
      "sun_time    7672 non-null float64\n",
      "lgt_time    7672 non-null float64\n",
      "snow        7672 non-null float64\n",
      "dtypes: float64(9), int64(1), object(1)\n",
      "memory usage: 659.4+ KB\n"
     ]
    }
   ],
   "source": [
    "gs.info() # 270만\n",
    "lavla.info() # 82만\n",
    "weather.info() # 7672"
   ]
  },
  {
   "cell_type": "code",
   "execution_count": null,
   "metadata": {},
   "outputs": [],
   "source": []
  }
 ],
 "metadata": {
  "kernelspec": {
   "display_name": "Python 3",
   "language": "python",
   "name": "python3"
  },
  "language_info": {
   "codemirror_mode": {
    "name": "ipython",
    "version": 3
   },
   "file_extension": ".py",
   "mimetype": "text/x-python",
   "name": "python",
   "nbconvert_exporter": "python",
   "pygments_lexer": "ipython3",
   "version": "3.6.8"
  }
 },
 "nbformat": 4,
 "nbformat_minor": 2
}
