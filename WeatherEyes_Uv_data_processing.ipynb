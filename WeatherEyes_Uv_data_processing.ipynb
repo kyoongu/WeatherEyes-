{
 "cells": [
  {
   "cell_type": "code",
   "execution_count": 1,
   "metadata": {},
   "outputs": [],
   "source": [
    "# 필요한 기본 패키지 준비\n",
    "# 데이터처리를 위한 패키지\n",
    "import numpy as np\n",
    "import pandas as pd\n",
    "\n",
    "# encoding 문제 해결을 위한 패키지\n",
    "import chardet\n",
    "\n",
    "# 날짜 처리를 위한 패키지\n",
    "import datetime as dt\n",
    "\n",
    "# 파일 위치 이름 가져오기 위한 패키지\n",
    "import glob"
   ]
  },
  {
   "cell_type": "code",
   "execution_count": 2,
   "metadata": {},
   "outputs": [],
   "source": [
    "# year=2016\n",
    "# month=1\n",
    "# day=1\n",
    "\n",
    "def yyyy(year):\n",
    "    year_str='{:0>4}'.format(year) # 년도 4개의 자리수로\n",
    "    return year_str\n",
    "\n",
    "def mm(month):\n",
    "    mm='{:0>2}'.format(month) # 월 2개의 자리수로(자리수가 부족하면 숫자0으로 자리 메꾸기, 예: 1월 => 1 => 01\n",
    "    return mm\n",
    "\n",
    "def dd(day):\n",
    "    dd='{:0>2}'.format(day)\n",
    "    return dd\n",
    "\n",
    "\n",
    "# 원본 파일 위치\n",
    "# D:/project/contest/data/original/uv/\n",
    "#                                      201606, 201607...의 규칙으로 저장됨\n",
    "# glob을 위한 전용 함수 : 각 년도 폴더의 csv자료만 검색 리스트로 리턴\n",
    "def filePath(year, month):\n",
    "    path = 'E:/Python/original/uv/'\n",
    "    file = path+yyyy(year)+'/'+yyyy(year)+mm(month)+'/*.csv'\n",
    "    return file\n",
    "\n",
    "# print(filePath(2016,6))\n",
    "def find_encoding(fname):\n",
    "    r_file = open(fname, 'rb').read()\n",
    "    result = chardet.detect(r_file)\n",
    "    charenc = result['encoding']\n",
    "    return charenc\n"
   ]
  },
  {
   "cell_type": "markdown",
   "metadata": {},
   "source": [
    "['종로구', '중구', '용산구', '성동구', '광진구', '동대문구', '중랑구', '성북구', '강북구', '도봉구', '노원구', '은평구', '서대문구', '마포구', '양천구', '강서구', '구로구', '금천구', '영등포구', '동작구', '관악구', '서초구', '강남구', '송파구', '강동구']"
   ]
  },
  {
   "cell_type": "code",
   "execution_count": 64,
   "metadata": {},
   "outputs": [],
   "source": [
    "# 11억 : 서울특별시\n",
    "# 41억 : 경기도\n",
    "# 28억 : 인천광역시\n",
    "# '1100000000':'서울', '4100000000':'경기도', '2800000000':'인천'\n",
    "# 16개의 컬럼(0~15)\n",
    "\n",
    "# uv데이터 관측지점 정보 가져오기.\n",
    "excel = 'E:/Python/original/air/OpenAPI_20190115/loc_tb_air_UV.xlsx'\n",
    "areaCode = pd.read_excel(excel)\n",
    "\n",
    "# 1번, 16번 의미 없음\n",
    "# index로 보면 1~14번 컬럼만\n",
    "areaCode = areaCode.iloc[:,1:15]\n",
    "\n",
    "# '3단계' column에는 행정구역 단위가 '동'단위 이다.\n",
    "# 즉, '시/군/구' 단위까지만 자료를 가져오겠다는 뜻.\n",
    "areaCode = areaCode.loc[areaCode['3단계'].isna()]\n",
    "# areaCode.head(4)\n",
    "\n",
    "# 지점번호, 시/도, 시/군/구 column만\n",
    "areaCode = areaCode.iloc[:,:3]\n",
    "\n",
    "# 향후 테이블 merge를 위한 0번 column 이름 '행정구역코드' -> '지점번호'로 수정\n",
    "areaCode.columns = ['지점번호','1단계', '2단계']\n",
    "# dtype 통일\n",
    "areaCode['지점번호'] = areaCode['지점번호'].astype('str')\n",
    "# areaCode.head(5)"
   ]
  },
  {
   "cell_type": "code",
   "execution_count": 65,
   "metadata": {},
   "outputs": [],
   "source": [
    "# 2016~2018/3~11월사이의 데이터 들을 가져온다\n",
    "# 다행이도 glob에서 특정 path가 없으면 자체적으로 건너뛰고 다음으로 넘어가준다.\n",
    "file_list = list()\n",
    "for year in range(2016,2019):\n",
    "    for month in range(3,12):\n",
    "        file_list.extend(glob.glob(filePath(year, month)))"
   ]
  },
  {
   "cell_type": "code",
   "execution_count": 116,
   "metadata": {},
   "outputs": [
    {
     "data": {
      "text/plain": [
       "str"
      ]
     },
     "execution_count": 116,
     "metadata": {},
     "output_type": "execute_result"
    }
   ],
   "source": [
    "find_encoding(file_list[0])"
   ]
  },
  {
   "cell_type": "markdown",
   "metadata": {},
   "source": [
    "## 데이터 전 처리 법 확인 "
   ]
  },
  {
   "cell_type": "code",
   "execution_count": 117,
   "metadata": {},
   "outputs": [
    {
     "data": {
      "text/html": [
       "<div>\n",
       "<style scoped>\n",
       "    .dataframe tbody tr th:only-of-type {\n",
       "        vertical-align: middle;\n",
       "    }\n",
       "\n",
       "    .dataframe tbody tr th {\n",
       "        vertical-align: top;\n",
       "    }\n",
       "\n",
       "    .dataframe thead th {\n",
       "        text-align: right;\n",
       "    }\n",
       "</style>\n",
       "<table border=\"1\" class=\"dataframe\">\n",
       "  <thead>\n",
       "    <tr style=\"text-align: right;\">\n",
       "      <th></th>\n",
       "      <th>지점번호</th>\n",
       "      <th>날짜</th>\n",
       "      <th>오늘</th>\n",
       "      <th>내일</th>\n",
       "      <th>모레</th>\n",
       "      <th>date</th>\n",
       "      <th>1단계</th>\n",
       "      <th>2단계</th>\n",
       "    </tr>\n",
       "  </thead>\n",
       "  <tbody>\n",
       "    <tr>\n",
       "      <th>155</th>\n",
       "      <td>4183000000</td>\n",
       "      <td>2016061718</td>\n",
       "      <td>NaN</td>\n",
       "      <td>8</td>\n",
       "      <td>6</td>\n",
       "      <td>2016-06-17</td>\n",
       "      <td>경기도</td>\n",
       "      <td>양평군</td>\n",
       "    </tr>\n",
       "  </tbody>\n",
       "</table>\n",
       "</div>"
      ],
      "text/plain": [
       "           지점번호          날짜   오늘 내일 모레       date  1단계  2단계\n",
       "155  4183000000  2016061718  NaN  8  6 2016-06-17  경기도  양평군"
      ]
     },
     "execution_count": 117,
     "metadata": {},
     "output_type": "execute_result"
    }
   ],
   "source": [
    "df = pd.read_csv('E:/Python/original/uv/2016/201606\\\\FCT_IDX_A07_2016061706.csv', encoding='euc-kr',sep='#',dtype='str', usecols=[1,2,3,4,5])\n",
    "df['date'] = pd.to_datetime(df['날짜'].str[:-2])\n",
    "df2 = pd.read_csv('E:/Python/original/uv/2016/201606\\\\FCT_IDX_A07_2016061718.csv', encoding='euc-kr',sep='#',dtype='str', usecols=[1,2,3,4,5])\n",
    "df2['date'] = pd.to_datetime(df2['날짜'].str[:-2])\n",
    "\n",
    "# df와 df2를 합치기 df 아래 df2를 붙이는 형식으로\n",
    "df3 = pd.concat([df, df2], ignore_index=True)\n",
    "\n",
    "# 지점명 추가\n",
    "df_joined = pd.merge(df3, areaCode, on='지점번호',how='left')\n",
    "\n",
    "# '1단계' : 특별시/광역시/도 가 존재하는 데이터만\n",
    "df_joined = df_joined.loc[df_joined['1단계'].notnull()]\n",
    "\n",
    "# 서울('11...'), 경기('41...'), 인천('28...') 지역 정보만 가져오기\n",
    "# gs/lalavla데이터가 서울/경기/인천 지역만 제공 되기 때문.\n",
    "df_joined = df_joined.loc[(df_joined['지점번호'].str.startswith('11')) #서울\n",
    "                          | (df_joined['지점번호'].str.startswith('41')) # 경기\n",
    "                          | (df_joined['지점번호'].str.startswith('28'))].reset_index(drop=True) #인천/원래index미사용\n",
    "# 결과 확인\n",
    "df_joined.tail(1)"
   ]
  },
  {
   "cell_type": "markdown",
   "metadata": {},
   "source": [
    "## 데이터 종합"
   ]
  },
  {
   "cell_type": "code",
   "execution_count": 118,
   "metadata": {
    "scrolled": true
   },
   "outputs": [
    {
     "name": "stdout",
     "output_type": "stream",
     "text": [
      "10 번째 파일 처리중...\n",
      "20 번째 파일 처리중...\n",
      "30 번째 파일 처리중...\n",
      "40 번째 파일 처리중...\n",
      "50 번째 파일 처리중...\n",
      "60 번째 파일 처리중...\n",
      "70 번째 파일 처리중...\n",
      "80 번째 파일 처리중...\n",
      "90 번째 파일 처리중...\n",
      "100 번째 파일 처리중...\n",
      "110 번째 파일 처리중...\n",
      "120 번째 파일 처리중...\n",
      "130 번째 파일 처리중...\n",
      "140 번째 파일 처리중...\n",
      "150 번째 파일 처리중...\n",
      "160 번째 파일 처리중...\n",
      "170 번째 파일 처리중...\n",
      "180 번째 파일 처리중...\n",
      "190 번째 파일 처리중...\n",
      "200 번째 파일 처리중...\n",
      "210 번째 파일 처리중...\n",
      "220 번째 파일 처리중...\n",
      "230 번째 파일 처리중...\n",
      "240 번째 파일 처리중...\n",
      "250 번째 파일 처리중...\n",
      "260 번째 파일 처리중...\n",
      "270 번째 파일 처리중...\n",
      "280 번째 파일 처리중...\n",
      "290 번째 파일 처리중...\n",
      "300 번째 파일 처리중...\n",
      "310 번째 파일 처리중...\n",
      "320 번째 파일 처리중...\n",
      "330 번째 파일 처리중...\n",
      "340 번째 파일 처리중...\n",
      "350 번째 파일 처리중...\n",
      "360 번째 파일 처리중...\n",
      "370 번째 파일 처리중...\n",
      "380 번째 파일 처리중...\n",
      "390 번째 파일 처리중...\n",
      "400 번째 파일 처리중...\n",
      "410 번째 파일 처리중...\n",
      "420 번째 파일 처리중...\n",
      "430 번째 파일 처리중...\n",
      "440 번째 파일 처리중...\n",
      "450 번째 파일 처리중...\n",
      "460 번째 파일 처리중...\n",
      "470 번째 파일 처리중...\n",
      "480 번째 파일 처리중...\n",
      "490 번째 파일 처리중...\n",
      "500 번째 파일 처리중...\n",
      "510 번째 파일 처리중...\n",
      "520 번째 파일 처리중...\n",
      "530 번째 파일 처리중...\n",
      "540 번째 파일 처리중...\n",
      "550 번째 파일 처리중...\n",
      "560 번째 파일 처리중...\n",
      "570 번째 파일 처리중...\n",
      "580 번째 파일 처리중...\n",
      "590 번째 파일 처리중...\n",
      "600 번째 파일 처리중...\n",
      "610 번째 파일 처리중...\n",
      "620 번째 파일 처리중...\n",
      "630 번째 파일 처리중...\n",
      "640 번째 파일 처리중...\n",
      "650 번째 파일 처리중...\n",
      "660 번째 파일 처리중...\n",
      "670 번째 파일 처리중...\n",
      "680 번째 파일 처리중...\n",
      "690 번째 파일 처리중...\n",
      "700 번째 파일 처리중...\n",
      "710 번째 파일 처리중...\n",
      "720 번째 파일 처리중...\n",
      "730 번째 파일 처리중...\n",
      "740 번째 파일 처리중...\n",
      "750 번째 파일 처리중...\n",
      "760 번째 파일 처리중...\n",
      "770 번째 파일 처리중...\n",
      "780 번째 파일 처리중...\n",
      "790 번째 파일 처리중...\n",
      "800 번째 파일 처리중...\n",
      "810 번째 파일 처리중...\n",
      "820 번째 파일 처리중...\n",
      "830 번째 파일 처리중...\n",
      "840 번째 파일 처리중...\n",
      "850 번째 파일 처리중...\n",
      "860 번째 파일 처리중...\n",
      "870 번째 파일 처리중...\n",
      "880 번째 파일 처리중...\n",
      "890 번째 파일 처리중...\n",
      "900 번째 파일 처리중...\n",
      "910 번째 파일 처리중...\n",
      "920 번째 파일 처리중...\n",
      "930 번째 파일 처리중...\n",
      "940 번째 파일 처리중...\n",
      "950 번째 파일 처리중...\n",
      "960 번째 파일 처리중...\n",
      "970 번째 파일 처리중...\n",
      "980 번째 파일 처리중...\n",
      "990 번째 파일 처리중...\n",
      "1000 번째 파일 처리중...\n",
      "1010 번째 파일 처리중...\n",
      "1020 번째 파일 처리중...\n",
      "1030 번째 파일 처리중...\n",
      "1040 번째 파일 처리중...\n",
      "1050 번째 파일 처리중...\n",
      "1060 번째 파일 처리중...\n",
      "1070 번째 파일 처리중...\n",
      "1080 번째 파일 처리중...\n",
      "1090 번째 파일 처리중...\n",
      "1100 번째 파일 처리중...\n",
      "1110 번째 파일 처리중...\n",
      "1120 번째 파일 처리중...\n",
      "1130 번째 파일 처리중...\n",
      "1140 번째 파일 처리중...\n",
      "1150 번째 파일 처리중...\n",
      "1160 번째 파일 처리중...\n",
      "1170 번째 파일 처리중...\n",
      "1180 번째 파일 처리중...\n",
      "1190 번째 파일 처리중...\n",
      "1200 번째 파일 처리중...\n",
      "1210 번째 파일 처리중...\n",
      "1220 번째 파일 처리중...\n",
      "1230 번째 파일 처리중...\n",
      "1240 번째 파일 처리중...\n",
      "1250 번째 파일 처리중...\n",
      "1260 번째 파일 처리중...\n",
      "1270 번째 파일 처리중...\n",
      "1280 번째 파일 처리중...\n",
      "1290 번째 파일 처리중...\n",
      "1300 번째 파일 처리중...\n",
      "1310 번째 파일 처리중...\n",
      "1320 번째 파일 처리중...\n",
      "1330 번째 파일 처리중...\n",
      "1340 번째 파일 처리중...\n",
      "1350 번째 파일 처리중...\n",
      "1360 번째 파일 처리중...\n",
      "1370 번째 파일 처리중...\n",
      "1380 번째 파일 처리중...\n",
      "1390 번째 파일 처리중...\n",
      "1400 번째 파일 처리중...\n",
      "1410 번째 파일 처리중...\n",
      "1420 번째 파일 처리중...\n"
     ]
    }
   ],
   "source": [
    "# 모든 데이터가 결집될 df\n",
    "uv_2016_2018 = pd.read_csv(file_list2016[0], encoding='euc-kr',sep='#',dtype='str', usecols=[1,2,3,4,5])\n",
    "uv_2016_2018['date'] = pd.to_datetime(uv_2016_2018['날짜'].str[:-2])\n",
    "uv_2016_2018 = uv_2016_2018.loc[(uv_2016_2018['지점번호'].str.startswith('11')) #서울\n",
    "                          | (uv_2016_2018['지점번호'].str.startswith('41')) # 경기\n",
    "                          | (uv_2016_2018['지점번호'].str.startswith('28'))].reset_index(drop=True)\n",
    "# uv_2016_2018.head()\n",
    "\n",
    "# 일단 2016년만\n",
    "# file_list2016 = list()\n",
    "\n",
    "# for month in range(3,12):\n",
    "#     file_list2016.extend(glob.glob(filePath(2016, month)))\n",
    "\n",
    "# file_list, 1번부터. 0번은 위에서 이미 읽음.\n",
    "for index in range(1,len(file_list)):\n",
    "    if index%100==0:\n",
    "        print(index,'번째 파일 처리중...')\n",
    "    # 2016자료는 전부 'euc-kr'\n",
    "    my_encoding = find_encoding(file_list[index])\n",
    "    df = pd.read_csv(file_list[index], encoding=my_encoding,sep='#',dtype='str', usecols=[1,2,3,4,5])\n",
    "    df['date'] = pd.to_datetime(df['날짜'].str[:-2])\n",
    "    df = df.loc[(df['지점번호'].str.startswith('11')) #서울\n",
    "                          | (df['지점번호'].str.startswith('41')) # 경기\n",
    "                          | (df['지점번호'].str.startswith('28'))].reset_index(drop=True)\n",
    "    uv_2016_2018=pd.concat([uv_2016_2018, df], ignore_index=True) \n",
    "print(len(file_list),'개 파일 완료')  \n",
    "# uv_2016_2018.tail(1)\n",
    "# 2016년 데이터 종합 확인\n",
    "# 대충 1430개의 파일"
   ]
  },
  {
   "cell_type": "code",
   "execution_count": 126,
   "metadata": {},
   "outputs": [],
   "source": [
    "# 중간저장\n",
    "uv_2016_2018.to_csv('E:/Python/original/uv/uv_2016_2018.csv', encoding='utf-8', index=False)"
   ]
  },
  {
   "cell_type": "code",
   "execution_count": 123,
   "metadata": {},
   "outputs": [
    {
     "data": {
      "text/plain": [
       "지점번호         0\n",
       "날짜           0\n",
       "오늘      871643\n",
       "내일           0\n",
       "모레           0\n",
       "date         0\n",
       "dtype: int64"
      ]
     },
     "execution_count": 123,
     "metadata": {},
     "output_type": "execute_result"
    }
   ],
   "source": [
    "uv_2016_2018.isnull().sum()"
   ]
  },
  {
   "cell_type": "code",
   "execution_count": 128,
   "metadata": {},
   "outputs": [],
   "source": [
    "df_joined = pd.merge(uv_2016_2018, areaCode, on='지점번호',how='left')\n",
    "\n",
    "# '1단계' : 특별시/광역시/도 가 존재하는 데이터만\n",
    "df_joined = df_joined.loc[df_joined['1단계'].notnull()]\n",
    "\n",
    "# 서울('11...'), 경기('41...'), 인천('28...') 지역 정보만 가져오기\n",
    "# gs/lalavla데이터가 서울/경기/인천 지역만 제공 되기 때문.\n",
    "df_joined = df_joined.loc[(df_joined['지점번호'].str.startswith('11')) #서울\n",
    "                          | (df_joined['지점번호'].str.startswith('41')) # 경기\n",
    "                          | (df_joined['지점번호'].str.startswith('28'))].reset_index(drop=True) #인천/원래index미사용\n",
    "# 결과 확인\n",
    "df_joined = df_joined.loc[(df_joined['지점번호'].str.startswith('11')) #서울\n",
    "                          | (df_joined['지점번호'].str.startswith('41')) # 경기\n",
    "                          | (df_joined['지점번호'].str.startswith('28'))].reset_index(drop=True) #인천/원래index미사용"
   ]
  },
  {
   "cell_type": "code",
   "execution_count": 129,
   "metadata": {},
   "outputs": [
    {
     "data": {
      "text/html": [
       "<div>\n",
       "<style scoped>\n",
       "    .dataframe tbody tr th:only-of-type {\n",
       "        vertical-align: middle;\n",
       "    }\n",
       "\n",
       "    .dataframe tbody tr th {\n",
       "        vertical-align: top;\n",
       "    }\n",
       "\n",
       "    .dataframe thead th {\n",
       "        text-align: right;\n",
       "    }\n",
       "</style>\n",
       "<table border=\"1\" class=\"dataframe\">\n",
       "  <thead>\n",
       "    <tr style=\"text-align: right;\">\n",
       "      <th></th>\n",
       "      <th>지점번호</th>\n",
       "      <th>날짜</th>\n",
       "      <th>오늘</th>\n",
       "      <th>내일</th>\n",
       "      <th>모레</th>\n",
       "      <th>date</th>\n",
       "      <th>1단계</th>\n",
       "      <th>2단계</th>\n",
       "    </tr>\n",
       "  </thead>\n",
       "  <tbody>\n",
       "    <tr>\n",
       "      <th>111296</th>\n",
       "      <td>4155000000</td>\n",
       "      <td>2018113018</td>\n",
       "      <td>NaN</td>\n",
       "      <td>2</td>\n",
       "      <td>1</td>\n",
       "      <td>2018-11-30</td>\n",
       "      <td>경기도</td>\n",
       "      <td>안성시</td>\n",
       "    </tr>\n",
       "    <tr>\n",
       "      <th>111297</th>\n",
       "      <td>4157000000</td>\n",
       "      <td>2018113018</td>\n",
       "      <td>NaN</td>\n",
       "      <td>2</td>\n",
       "      <td>1</td>\n",
       "      <td>2018-11-30</td>\n",
       "      <td>경기도</td>\n",
       "      <td>김포시</td>\n",
       "    </tr>\n",
       "    <tr>\n",
       "      <th>111298</th>\n",
       "      <td>4159000000</td>\n",
       "      <td>2018113018</td>\n",
       "      <td>NaN</td>\n",
       "      <td>2</td>\n",
       "      <td>1</td>\n",
       "      <td>2018-11-30</td>\n",
       "      <td>경기도</td>\n",
       "      <td>화성시</td>\n",
       "    </tr>\n",
       "    <tr>\n",
       "      <th>111299</th>\n",
       "      <td>4161000000</td>\n",
       "      <td>2018113018</td>\n",
       "      <td>NaN</td>\n",
       "      <td>2</td>\n",
       "      <td>1</td>\n",
       "      <td>2018-11-30</td>\n",
       "      <td>경기도</td>\n",
       "      <td>광주시</td>\n",
       "    </tr>\n",
       "    <tr>\n",
       "      <th>111300</th>\n",
       "      <td>4163000000</td>\n",
       "      <td>2018113018</td>\n",
       "      <td>NaN</td>\n",
       "      <td>2</td>\n",
       "      <td>1</td>\n",
       "      <td>2018-11-30</td>\n",
       "      <td>경기도</td>\n",
       "      <td>양주시</td>\n",
       "    </tr>\n",
       "    <tr>\n",
       "      <th>111301</th>\n",
       "      <td>4165000000</td>\n",
       "      <td>2018113018</td>\n",
       "      <td>NaN</td>\n",
       "      <td>2</td>\n",
       "      <td>1</td>\n",
       "      <td>2018-11-30</td>\n",
       "      <td>경기도</td>\n",
       "      <td>포천시</td>\n",
       "    </tr>\n",
       "    <tr>\n",
       "      <th>111302</th>\n",
       "      <td>4167000000</td>\n",
       "      <td>2018113018</td>\n",
       "      <td>NaN</td>\n",
       "      <td>2</td>\n",
       "      <td>1</td>\n",
       "      <td>2018-11-30</td>\n",
       "      <td>경기도</td>\n",
       "      <td>여주시</td>\n",
       "    </tr>\n",
       "    <tr>\n",
       "      <th>111303</th>\n",
       "      <td>4180000000</td>\n",
       "      <td>2018113018</td>\n",
       "      <td>NaN</td>\n",
       "      <td>2</td>\n",
       "      <td>1</td>\n",
       "      <td>2018-11-30</td>\n",
       "      <td>경기도</td>\n",
       "      <td>연천군</td>\n",
       "    </tr>\n",
       "    <tr>\n",
       "      <th>111304</th>\n",
       "      <td>4182000000</td>\n",
       "      <td>2018113018</td>\n",
       "      <td>NaN</td>\n",
       "      <td>2</td>\n",
       "      <td>1</td>\n",
       "      <td>2018-11-30</td>\n",
       "      <td>경기도</td>\n",
       "      <td>가평군</td>\n",
       "    </tr>\n",
       "    <tr>\n",
       "      <th>111305</th>\n",
       "      <td>4183000000</td>\n",
       "      <td>2018113018</td>\n",
       "      <td>NaN</td>\n",
       "      <td>2</td>\n",
       "      <td>1</td>\n",
       "      <td>2018-11-30</td>\n",
       "      <td>경기도</td>\n",
       "      <td>양평군</td>\n",
       "    </tr>\n",
       "  </tbody>\n",
       "</table>\n",
       "</div>"
      ],
      "text/plain": [
       "              지점번호          날짜   오늘 내일 모레       date  1단계  2단계\n",
       "111296  4155000000  2018113018  NaN  2  1 2018-11-30  경기도  안성시\n",
       "111297  4157000000  2018113018  NaN  2  1 2018-11-30  경기도  김포시\n",
       "111298  4159000000  2018113018  NaN  2  1 2018-11-30  경기도  화성시\n",
       "111299  4161000000  2018113018  NaN  2  1 2018-11-30  경기도  광주시\n",
       "111300  4163000000  2018113018  NaN  2  1 2018-11-30  경기도  양주시\n",
       "111301  4165000000  2018113018  NaN  2  1 2018-11-30  경기도  포천시\n",
       "111302  4167000000  2018113018  NaN  2  1 2018-11-30  경기도  여주시\n",
       "111303  4180000000  2018113018  NaN  2  1 2018-11-30  경기도  연천군\n",
       "111304  4182000000  2018113018  NaN  2  1 2018-11-30  경기도  가평군\n",
       "111305  4183000000  2018113018  NaN  2  1 2018-11-30  경기도  양평군"
      ]
     },
     "execution_count": 129,
     "metadata": {},
     "output_type": "execute_result"
    }
   ],
   "source": [
    "df_joined.tail(10)"
   ]
  },
  {
   "cell_type": "code",
   "execution_count": 131,
   "metadata": {},
   "outputs": [
    {
     "data": {
      "text/plain": [
       "지점번호        0\n",
       "날짜          0\n",
       "오늘      55692\n",
       "내일          0\n",
       "모레          0\n",
       "date        0\n",
       "1단계         0\n",
       "2단계      4281\n",
       "dtype: int64"
      ]
     },
     "execution_count": 131,
     "metadata": {},
     "output_type": "execute_result"
    }
   ],
   "source": [
    "df_joined.isnull().sum()"
   ]
  },
  {
   "cell_type": "code",
   "execution_count": 132,
   "metadata": {},
   "outputs": [],
   "source": [
    "# 지점명 추가\n",
    "# 처리한 df저장\n",
    "df_joined.to_csv('E:/Python/original/uv/uv_2016_2018.csv', encoding='utf-8', index=False)"
   ]
  },
  {
   "cell_type": "markdown",
   "metadata": {},
   "source": [
    "# 결측치 처리를 해봅시다"
   ]
  },
  {
   "cell_type": "code",
   "execution_count": 3,
   "metadata": {},
   "outputs": [],
   "source": [
    "# 필요한 기본 패키지 준비\n",
    "# 데이터처리를 위한 패키지\n",
    "import numpy as np\n",
    "import pandas as pd\n",
    "\n",
    "# encoding 문제 해결을 위하 ㄴ패키지\n",
    "import chardet\n",
    "\n",
    "# 날짜 처리를 위한 패키지\n",
    "import datetime as dt\n",
    "\n",
    "# 파일 위치 이름 가져오기 위한 패키지\n",
    "import glob"
   ]
  },
  {
   "cell_type": "code",
   "execution_count": 49,
   "metadata": {},
   "outputs": [
    {
     "name": "stdout",
     "output_type": "stream",
     "text": [
      "<class 'pandas.core.frame.DataFrame'>\n",
      "RangeIndex: 111306 entries, 0 to 111305\n",
      "Data columns (total 8 columns):\n",
      "지점번호    111306 non-null int64\n",
      "날짜      111306 non-null int64\n",
      "오늘      55614 non-null float64\n",
      "내일      111306 non-null int64\n",
      "모레      111306 non-null int64\n",
      "date    111306 non-null datetime64[ns]\n",
      "1단계     111306 non-null object\n",
      "2단계     107025 non-null object\n",
      "dtypes: datetime64[ns](1), float64(1), int64(4), object(2)\n",
      "memory usage: 6.8+ MB\n"
     ]
    }
   ],
   "source": [
    "uv = pd.read_csv('E:/Python/original/uv/uv_2016_2018.csv', encoding='utf-8',parse_dates=[5])\n",
    "uv.info()"
   ]
  },
  {
   "cell_type": "code",
   "execution_count": 51,
   "metadata": {},
   "outputs": [
    {
     "data": {
      "text/html": [
       "<div>\n",
       "<style scoped>\n",
       "    .dataframe tbody tr th:only-of-type {\n",
       "        vertical-align: middle;\n",
       "    }\n",
       "\n",
       "    .dataframe tbody tr th {\n",
       "        vertical-align: top;\n",
       "    }\n",
       "\n",
       "    .dataframe thead th {\n",
       "        text-align: right;\n",
       "    }\n",
       "</style>\n",
       "<table border=\"1\" class=\"dataframe\">\n",
       "  <thead>\n",
       "    <tr style=\"text-align: right;\">\n",
       "      <th></th>\n",
       "      <th>지점번호</th>\n",
       "      <th>날짜</th>\n",
       "      <th>오늘</th>\n",
       "      <th>내일</th>\n",
       "      <th>모레</th>\n",
       "      <th>date</th>\n",
       "      <th>1단계</th>\n",
       "      <th>2단계</th>\n",
       "    </tr>\n",
       "  </thead>\n",
       "  <tbody>\n",
       "    <tr>\n",
       "      <th>78</th>\n",
       "      <td>1100000000</td>\n",
       "      <td>2016061718</td>\n",
       "      <td>NaN</td>\n",
       "      <td>8</td>\n",
       "      <td>6</td>\n",
       "      <td>2016-06-17</td>\n",
       "      <td>서울특별시</td>\n",
       "      <td>NaN</td>\n",
       "    </tr>\n",
       "    <tr>\n",
       "      <th>79</th>\n",
       "      <td>1111000000</td>\n",
       "      <td>2016061718</td>\n",
       "      <td>NaN</td>\n",
       "      <td>8</td>\n",
       "      <td>6</td>\n",
       "      <td>2016-06-17</td>\n",
       "      <td>서울특별시</td>\n",
       "      <td>종로구</td>\n",
       "    </tr>\n",
       "    <tr>\n",
       "      <th>80</th>\n",
       "      <td>1114000000</td>\n",
       "      <td>2016061718</td>\n",
       "      <td>NaN</td>\n",
       "      <td>8</td>\n",
       "      <td>6</td>\n",
       "      <td>2016-06-17</td>\n",
       "      <td>서울특별시</td>\n",
       "      <td>중구</td>\n",
       "    </tr>\n",
       "    <tr>\n",
       "      <th>81</th>\n",
       "      <td>1117000000</td>\n",
       "      <td>2016061718</td>\n",
       "      <td>NaN</td>\n",
       "      <td>8</td>\n",
       "      <td>6</td>\n",
       "      <td>2016-06-17</td>\n",
       "      <td>서울특별시</td>\n",
       "      <td>용산구</td>\n",
       "    </tr>\n",
       "    <tr>\n",
       "      <th>82</th>\n",
       "      <td>1120000000</td>\n",
       "      <td>2016061718</td>\n",
       "      <td>NaN</td>\n",
       "      <td>8</td>\n",
       "      <td>6</td>\n",
       "      <td>2016-06-17</td>\n",
       "      <td>서울특별시</td>\n",
       "      <td>성동구</td>\n",
       "    </tr>\n",
       "  </tbody>\n",
       "</table>\n",
       "</div>"
      ],
      "text/plain": [
       "          지점번호          날짜  오늘  내일  모레       date    1단계  2단계\n",
       "78  1100000000  2016061718 NaN   8   6 2016-06-17  서울특별시  NaN\n",
       "79  1111000000  2016061718 NaN   8   6 2016-06-17  서울특별시  종로구\n",
       "80  1114000000  2016061718 NaN   8   6 2016-06-17  서울특별시   중구\n",
       "81  1117000000  2016061718 NaN   8   6 2016-06-17  서울특별시  용산구\n",
       "82  1120000000  2016061718 NaN   8   6 2016-06-17  서울특별시  성동구"
      ]
     },
     "execution_count": 51,
     "metadata": {},
     "output_type": "execute_result"
    }
   ],
   "source": [
    "uv.loc[uv['오늘'].isnull()].head()"
   ]
  },
  {
   "cell_type": "code",
   "execution_count": 52,
   "metadata": {},
   "outputs": [
    {
     "name": "stdout",
     "output_type": "stream",
     "text": [
      "[nan, '종로구', '중구', '용산구', '성동구', '광진구', '동대문구', '중랑구', '성북구', '강북구', '도봉구', '노원구', '은평구', '서대문구', '마포구', '양천구', '강서구', '구로구', '금천구', '영등포구', '동작구', '관악구', '서초구', '강남구', '송파구', '강동구', '동구', '연수구', '남동구', '부평구', '계양구', '서구', '강화군', '옹진군', '수원시장안구', '수원시권선구', '수원시팔달구', '수원시영통구', '성남시수정구', '성남시중원구', '성남시분당구', '의정부시', '안양시만안구', '안양시동안구', '광명시', '평택시', '동두천시', '안산시상록구', '안산시단원구', '고양시덕양구', '고양시일산동구', '고양시일산서구', '과천시', '구리시', '남양주시', '오산시', '시흥시', '군포시', '의왕시', '하남시', '용인시처인구', '용인시기흥구', '용인시수지구', '파주시', '이천시', '안성시', '김포시', '화성시', '광주시', '양주시', '포천시', '여주시', '연천군', '가평군', '양평군']\n",
      "75\n"
     ]
    }
   ],
   "source": [
    "print(list(uv['2단계'].unique()))\n",
    "print(len(uv['2단계'].unique()))"
   ]
  },
  {
   "cell_type": "code",
   "execution_count": 89,
   "metadata": {},
   "outputs": [
    {
     "name": "stdout",
     "output_type": "stream",
     "text": [
      "True\n"
     ]
    },
    {
     "data": {
      "text/plain": [
       "date    0\n",
       "지점번호    0\n",
       "1단계     0\n",
       "2단계     0\n",
       "오늘      0\n",
       "내일      0\n",
       "모레      0\n",
       "dtype: int64"
      ]
     },
     "execution_count": 89,
     "metadata": {},
     "output_type": "execute_result"
    }
   ],
   "source": [
    "# 데이터 확인 결과 : 그 날의 자외선 지수는 오전에 처리. 오후에는 그날의 자외선 지수가 없음\n",
    "# .mean()을 사용하면 결측치 제외하고 계산함.\n",
    "# mean()으로 하루의 자외선지수 \n",
    "# uv.iloc[:,[0,2,3,4,5,6,7]].loc[uv['date']=='2016-06-17']\\\n",
    "# .groupby(['date','지점번호','1단계','2단계']).mean().reset_index().head(2)\n",
    "p_uv = uv.iloc[:,[0,2,3,4,5,6,7]].groupby(['date','지점번호','1단계','2단계']).mean().reset_index()\n",
    "p_uv.tail(2)\n",
    "\n",
    "# missing_day = list(p_uv.loc[p_uv['오늘'].isnull(),'date'].unique())\n",
    "# array(['2016-08-03T00:00:00.000000000', '2018-08-25T00:00:00.000000000'], dtype='datetime64[ns]')\n",
    "# 2016-08-03, 2018-08-25 없음\n",
    "# 전날의 '내일' 예측 수치로 대체\n",
    "\n",
    "# 75개소 관측지점 : 75행마다 날자가 바뀜\n",
    "yesterday = p_uv['내일'].shift(periods=75)\n",
    "\n",
    "# 데이터 정제전 각 컬럼의 길이 확인\n",
    "# print(len(yesterday)==len(p_uv['내일'])) # True\n",
    "\n",
    "p_uv['오늘_new'] = np.where(p_uv['오늘'].isnull(), yesterday, p_uv['오늘'])\n",
    "####### 출처: https://rfriend.tistory.com/262 [R, Python 분석과 프로그래밍 (by R Friend)] #######\n",
    "p_uv['오늘'] = p_uv['오늘_new']\n",
    "p_uv.drop(columns='오늘_new',inplace=True)\n",
    "p_uv.isnull().sum()"
   ]
  },
  {
   "cell_type": "code",
   "execution_count": 91,
   "metadata": {},
   "outputs": [],
   "source": [
    "p_uv.to_csv('E:/Python/처리된 csv자료/p_uv.csv', encoding='utf-8', index=False)"
   ]
  },
  {
   "cell_type": "code",
   "execution_count": 78,
   "metadata": {},
   "outputs": [],
   "source": [
    "?np.where"
   ]
  },
  {
   "cell_type": "code",
   "execution_count": 71,
   "metadata": {},
   "outputs": [],
   "source": [
    "?pd.DataFrame.shift"
   ]
  }
 ],
 "metadata": {
  "kernelspec": {
   "display_name": "Python 3",
   "language": "python",
   "name": "python3"
  },
  "language_info": {
   "codemirror_mode": {
    "name": "ipython",
    "version": 3
   },
   "file_extension": ".py",
   "mimetype": "text/x-python",
   "name": "python",
   "nbconvert_exporter": "python",
   "pygments_lexer": "ipython3",
   "version": "3.6.8"
  }
 },
 "nbformat": 4,
 "nbformat_minor": 2
}
